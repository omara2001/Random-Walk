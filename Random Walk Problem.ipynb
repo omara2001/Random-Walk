{
 "cells": [
  {
   "cell_type": "markdown",
   "metadata": {},
   "source": [
    "   # Random Walk "
   ]
  },
  {
   "cell_type": "code",
   "execution_count": 1,
   "metadata": {},
   "outputs": [],
   "source": [
    "import random"
   ]
  },
  {
   "cell_type": "code",
   "execution_count": 2,
   "metadata": {},
   "outputs": [],
   "source": [
    "def cumulative_probability_distribution():\n",
    "    \"\"\"Return a dictionary representing the cumulative probability distribution for the random walk directions.\"\"\"\n",
    "    return {\n",
    "        \"F\": (0, 4),\n",
    "        \"L\": (5, 7),\n",
    "        \"R\": (8, 9)\n",
    "    }"
   ]
  },
  {
   "cell_type": "code",
   "execution_count": 3,
   "metadata": {},
   "outputs": [],
   "source": [
    "def random_walk(n, random_numbers):\n",
    "    \"\"\"Simulate a random walk of 'n' steps using the given 'random_numbers' and return the final (x, y) coordinates.\"\"\"\n",
    "    x, y = 0, 0\n",
    "    for i in range(n):\n",
    "        # Determine the direction based on the cumulative probability distribution\n",
    "        r = random_numbers[i]\n",
    "        for direction, (low, high) in cumulative_probability_distribution().items():\n",
    "            if low <= r < high:\n",
    "                if direction == \"F\":\n",
    "                    y += 1\n",
    "                elif direction == \"L\":\n",
    "                    x -= 1\n",
    "                else:\n",
    "                    x += 1\n",
    "                break\n",
    "    return (x, y)"
   ]
  },
  {
   "cell_type": "code",
   "execution_count": 4,
   "metadata": {},
   "outputs": [],
   "source": [
    "def random_walk_table(n, random_numbers):\n",
    "    \"\"\"Print a table of the random walk simulation with 'n' steps and the given 'random_numbers'.\"\"\"\n",
    "    print(\"Step Counter | Random Number | Direction | X Coordinate | Y Coordinate\")\n",
    "    print(\"-\" * 50)\n",
    "    for i in range(1, n+1):\n",
    "        r = random_numbers[i-1]\n",
    "        for direction, (low, high) in cumulative_probability_distribution().items():\n",
    "            if low <= r < high:\n",
    "                break\n",
    "        x, y = random_walk(i, random_numbers)\n",
    "        print(f\"{i:12d} | {r:14d} | {direction:9s} | {x:13d} | {y:13d}\")"
   ]
  },
  {
   "cell_type": "code",
   "execution_count": 5,
   "metadata": {},
   "outputs": [
    {
     "name": "stdout",
     "output_type": "stream",
     "text": [
      "Enter a random number between 0 and 99 for step 1: 6\n",
      "Enter a random number between 0 and 99 for step 2: 2\n",
      "Enter a random number between 0 and 99 for step 3: 0\n",
      "Enter a random number between 0 and 99 for step 4: 6\n",
      "Enter a random number between 0 and 99 for step 5: 8\n",
      "Enter a random number between 0 and 99 for step 6: 5\n",
      "Enter a random number between 0 and 99 for step 7: 7\n",
      "Enter a random number between 0 and 99 for step 8: 7\n",
      "Enter a random number between 0 and 99 for step 9: 9\n",
      "Enter a random number between 0 and 99 for step 10: 8\n",
      "Enter a random number between 0 and 99 for step 11: 4\n",
      "Enter a random number between 0 and 99 for step 12: 8\n",
      "Enter a random number between 0 and 99 for step 13: 2\n",
      "Enter a random number between 0 and 99 for step 14: 6\n",
      "Enter a random number between 0 and 99 for step 15: 2\n",
      "Enter a random number between 0 and 99 for step 16: 1\n",
      "Enter a random number between 0 and 99 for step 17: 3\n",
      "Enter a random number between 0 and 99 for step 18: 9\n",
      "Enter a random number between 0 and 99 for step 19: 8\n",
      "Enter a random number between 0 and 99 for step 20: 4\n",
      "Step Counter | Random Number | Direction | X Coordinate | Y Coordinate\n",
      "--------------------------------------------------\n",
      "           1 |              6 | L         |            -1 |             0\n",
      "           2 |              2 | F         |            -1 |             1\n",
      "           3 |              0 | F         |            -1 |             2\n",
      "           4 |              6 | L         |            -2 |             2\n",
      "           5 |              8 | R         |            -1 |             2\n",
      "           6 |              5 | L         |            -2 |             2\n",
      "           7 |              7 | R         |            -2 |             2\n",
      "           8 |              7 | R         |            -2 |             2\n",
      "           9 |              9 | R         |            -2 |             2\n",
      "          10 |              8 | R         |            -1 |             2\n",
      "          11 |              4 | R         |            -1 |             2\n",
      "          12 |              8 | R         |             0 |             2\n",
      "          13 |              2 | F         |             0 |             3\n",
      "          14 |              6 | L         |            -1 |             3\n",
      "          15 |              2 | F         |            -1 |             4\n",
      "          16 |              1 | F         |            -1 |             5\n",
      "          17 |              3 | F         |            -1 |             6\n",
      "          18 |              9 | R         |            -1 |             6\n",
      "          19 |              8 | R         |             0 |             6\n",
      "          20 |              4 | R         |             0 |             6\n"
     ]
    }
   ],
   "source": [
    "# Example usage\n",
    "n = 20\n",
    "random_numbers = [int(input(f\"Enter a random number between 0 and 99 for step {i}: \")) for i in range(1, n+1)]\n",
    "random_walk_table(n, random_numbers)"
   ]
  }
 ],
 "metadata": {
  "kernelspec": {
   "display_name": "Python 3",
   "language": "python",
   "name": "python3"
  },
  "language_info": {
   "codemirror_mode": {
    "name": "ipython",
    "version": 3
   },
   "file_extension": ".py",
   "mimetype": "text/x-python",
   "name": "python",
   "nbconvert_exporter": "python",
   "pygments_lexer": "ipython3",
   "version": "3.8.3"
  }
 },
 "nbformat": 4,
 "nbformat_minor": 4
}
